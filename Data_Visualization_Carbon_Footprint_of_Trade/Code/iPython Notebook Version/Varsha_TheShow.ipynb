{
 "nbformat": 4,
 "nbformat_minor": 0,
 "metadata": {
  "colab": {
   "provenance": []
  },
  "kernelspec": {
   "name": "python3",
   "display_name": "Python 3"
  },
  "language_info": {
   "name": "python"
  }
 },
 "cells": [
  {
   "cell_type": "markdown",
   "source": [
    "# Overview Visuals"
   ],
   "metadata": {
    "id": "1ySRjvNmPYpl"
   }
  },
  {
   "cell_type": "code",
   "source": [
    "# Imports\n",
    "import pandas as pd\n",
    "pd.set_option('display.max_rows', 500)\n",
    "pd.set_option('display.max_columns', None)\n",
    "pd.set_option('display.width', 1000)\n",
    "pd.set_option('display.max_colwidth', None)\n",
    "\n",
    "import matplotlib.pyplot as plt\n",
    "import numpy as np\n",
    "import pandas as pd\n",
    "import seaborn as sns\n",
    "\n",
    "import os"
   ],
   "metadata": {
    "id": "l6UMWWbbP45F"
   },
   "execution_count": null,
   "outputs": []
  },
  {
   "cell_type": "code",
   "source": [
    "# Mount Google Drive to Colab\n",
    "from google.colab import drive\n",
    "drive.mount('/content/drive')"
   ],
   "metadata": {
    "colab": {
     "base_uri": "https://localhost:8080/"
    },
    "id": "82LOvDDSTZon",
    "executionInfo": {
     "status": "ok",
     "timestamp": 1685907265464,
     "user_tz": 240,
     "elapsed": 1318,
     "user": {
      "displayName": "Varsha Garla",
      "userId": "14626546981268946451"
     }
    },
    "outputId": "755d3743-3593-4af0-e27a-295c0871fb48"
   },
   "execution_count": null,
   "outputs": []
  },
  {
   "cell_type": "markdown",
   "source": [
    "View datasets in folder:"
   ],
   "metadata": {
    "id": "igFGn_2wXMkS"
   }
  },
  {
   "cell_type": "code",
   "source": [
    "data_path = \"/content/drive/My Drive/EggplantGroup_TheShow_Final_Submission/Data/Climate Change Trends/\""
   ],
   "metadata": {
    "id": "f1sxCThJTY9-",
    "executionInfo": {
     "status": "ok",
     "timestamp": 1685907723499,
     "user_tz": 240,
     "elapsed": 316,
     "user": {
      "displayName": "Varsha Garla",
      "userId": "14626546981268946451"
     }
    }
   },
   "execution_count": null,
   "outputs": []
  },
  {
   "cell_type": "code",
   "source": [
    "ls \"/content/drive/My Drive/EggplantGroup_TheShow_Final_Submission/Data/Climate Change Trends/\""
   ],
   "metadata": {
    "colab": {
     "base_uri": "https://localhost:8080/"
    },
    "id": "ppXtRLI-7lSF",
    "executionInfo": {
     "status": "ok",
     "timestamp": 1685907740662,
     "user_tz": 240,
     "elapsed": 237,
     "user": {
      "displayName": "Varsha Garla",
      "userId": "14626546981268946451"
     }
    },
    "outputId": "9511a63a-5e75-4598-d9ab-151e937d966f"
   },
   "execution_count": null,
   "outputs": []
  },
  {
   "cell_type": "code",
   "source": [
    "output_path = \"/content/drive/My Drive/EggplantGroup_TheShow_Final_Submission/Graphics/Climate Change Trends/\""
   ],
   "metadata": {
    "id": "WZUjrxUa79Dx",
    "executionInfo": {
     "status": "ok",
     "timestamp": 1685907886294,
     "user_tz": 240,
     "elapsed": 228,
     "user": {
      "displayName": "Varsha Garla",
      "userId": "14626546981268946451"
     }
    }
   },
   "execution_count": null,
   "outputs": []
  },
  {
   "cell_type": "markdown",
   "source": [
    "## Atmospheric CO2 Over Time"
   ],
   "metadata": {
    "id": "LIfyzO7ePftb"
   }
  },
  {
   "cell_type": "markdown",
   "source": [
    "Data source: https://ourworldindata.org/co2-and-greenhouse-gas-emissions"
   ],
   "metadata": {
    "id": "s9bdC8ilxg0D"
   }
  },
  {
   "cell_type": "code",
   "source": [
    "# load dataset\n",
    "atmosphere_df = pd.read_csv(data_path + 'climate-change.csv')\n",
    "atmosphere_df.sample()"
   ],
   "metadata": {
    "colab": {
     "base_uri": "https://localhost:8080/",
     "height": 232
    },
    "id": "N99tZMX1RYT7",
    "executionInfo": {
     "status": "ok",
     "timestamp": 1685907754903,
     "user_tz": 240,
     "elapsed": 762,
     "user": {
      "displayName": "Varsha Garla",
      "userId": "14626546981268946451"
     }
    },
    "outputId": "fc24b634-b6cb-441e-f458-038966d8f93e"
   },
   "execution_count": null,
   "outputs": []
  },
  {
   "cell_type": "code",
   "source": [
    "atmosphere_df.dtypes"
   ],
   "metadata": {
    "colab": {
     "base_uri": "https://localhost:8080/"
    },
    "id": "ONd0BdGwXYWC",
    "executionInfo": {
     "status": "ok",
     "timestamp": 1685907759645,
     "user_tz": 240,
     "elapsed": 226,
     "user": {
      "displayName": "Varsha Garla",
      "userId": "14626546981268946451"
     }
    },
    "outputId": "2341e8b8-8c30-4b8e-f82c-c6eb5edb358a"
   },
   "execution_count": null,
   "outputs": []
  },
  {
   "cell_type": "code",
   "source": [
    "atmosphere_df['Monthly averaged'].unique()"
   ],
   "metadata": {
    "colab": {
     "base_uri": "https://localhost:8080/"
    },
    "id": "LvaIgWO_KpmF",
    "executionInfo": {
     "status": "ok",
     "timestamp": 1685907761598,
     "user_tz": 240,
     "elapsed": 221,
     "user": {
      "displayName": "Varsha Garla",
      "userId": "14626546981268946451"
     }
    },
    "outputId": "2ac8933e-0864-4e4d-85dd-80e917ab5475"
   },
   "execution_count": null,
   "outputs": []
  },
  {
   "cell_type": "code",
   "source": [
    "atmosphere_df.shape"
   ],
   "metadata": {
    "colab": {
     "base_uri": "https://localhost:8080/"
    },
    "id": "raOUqem8ZzkH",
    "executionInfo": {
     "status": "ok",
     "timestamp": 1685907762960,
     "user_tz": 240,
     "elapsed": 6,
     "user": {
      "displayName": "Varsha Garla",
      "userId": "14626546981268946451"
     }
    },
    "outputId": "6e53a6a4-267b-45c5-e3c5-9e9f743addb4"
   },
   "execution_count": null,
   "outputs": []
  },
  {
   "cell_type": "code",
   "source": [
    "# We want to look at global atmospheric concentrations -- use World\n",
    "atmosphere_df['Entity'].unique()"
   ],
   "metadata": {
    "colab": {
     "base_uri": "https://localhost:8080/"
    },
    "id": "3ocxujmgZJER",
    "executionInfo": {
     "status": "ok",
     "timestamp": 1685907763538,
     "user_tz": 240,
     "elapsed": 5,
     "user": {
      "displayName": "Varsha Garla",
      "userId": "14626546981268946451"
     }
    },
    "outputId": "c20340b0-5a0d-44a8-e085-703e38382b3f"
   },
   "execution_count": null,
   "outputs": []
  },
  {
   "cell_type": "code",
   "source": [
    "# Only keep rows for World\n",
    "atmosphere_df = atmosphere_df[atmosphere_df['Entity']=='World'].copy()\n",
    "atmosphere_df.shape"
   ],
   "metadata": {
    "colab": {
     "base_uri": "https://localhost:8080/"
    },
    "id": "r-yqdhqkZqBo",
    "executionInfo": {
     "status": "ok",
     "timestamp": 1685907764698,
     "user_tz": 240,
     "elapsed": 4,
     "user": {
      "displayName": "Varsha Garla",
      "userId": "14626546981268946451"
     }
    },
    "outputId": "3e221770-e79d-41d1-81a1-388677e1e012"
   },
   "execution_count": null,
   "outputs": []
  },
  {
   "cell_type": "code",
   "source": [
    "# Convert \"Date\" to datetime\n",
    "atmosphere_df['Date'] = pd.to_datetime(atmosphere_df['Date'])"
   ],
   "metadata": {
    "id": "9RELaYU8ayWe",
    "executionInfo": {
     "status": "ok",
     "timestamp": 1685907765006,
     "user_tz": 240,
     "elapsed": 6,
     "user": {
      "displayName": "Varsha Garla",
      "userId": "14626546981268946451"
     }
    }
   },
   "execution_count": null,
   "outputs": []
  },
  {
   "cell_type": "code",
   "source": [
    "# Get year and month as fields\n",
    "atmosphere_df['year'] = atmosphere_df['Date'].dt.year\n",
    "atmosphere_df['month'] = atmosphere_df['Date'].dt.month"
   ],
   "metadata": {
    "id": "c_eXSZFwa9d9",
    "executionInfo": {
     "status": "ok",
     "timestamp": 1685907765454,
     "user_tz": 240,
     "elapsed": 3,
     "user": {
      "displayName": "Varsha Garla",
      "userId": "14626546981268946451"
     }
    }
   },
   "execution_count": null,
   "outputs": []
  },
  {
   "cell_type": "code",
   "source": [
    "# Date range of entire dataset\n",
    "atmosphere_df.Date.min(), atmosphere_df['Date'].max()"
   ],
   "metadata": {
    "colab": {
     "base_uri": "https://localhost:8080/"
    },
    "id": "_reH_xS1LZY_",
    "executionInfo": {
     "status": "ok",
     "timestamp": 1685907765697,
     "user_tz": 240,
     "elapsed": 5,
     "user": {
      "displayName": "Varsha Garla",
      "userId": "14626546981268946451"
     }
    },
    "outputId": "0cbd7352-041b-4664-db5d-7961717d6687"
   },
   "execution_count": null,
   "outputs": []
  },
  {
   "cell_type": "code",
   "source": [
    "# Check date range available for \"Annual averaged\" variable\n",
    "atmosphere_df[~atmosphere_df['Annual averaged'].isnull()].Date.min(), atmosphere_df[~atmosphere_df['Annual averaged'].isnull()].Date.max()"
   ],
   "metadata": {
    "colab": {
     "base_uri": "https://localhost:8080/"
    },
    "id": "JWEBLq9JLR9v",
    "executionInfo": {
     "status": "ok",
     "timestamp": 1685907766767,
     "user_tz": 240,
     "elapsed": 5,
     "user": {
      "displayName": "Varsha Garla",
      "userId": "14626546981268946451"
     }
    },
    "outputId": "d0bd3195-1a42-48fe-e620-f6507a10f470"
   },
   "execution_count": null,
   "outputs": []
  },
  {
   "cell_type": "code",
   "source": [
    "# Look at monthly averaged CO2 concentrations (in ppm)\n",
    "atmosphere_df['Monthly averaged'].isnull().sum()"
   ],
   "metadata": {
    "colab": {
     "base_uri": "https://localhost:8080/"
    },
    "id": "F5MpfX8gZSm-",
    "executionInfo": {
     "status": "ok",
     "timestamp": 1685907767874,
     "user_tz": 240,
     "elapsed": 215,
     "user": {
      "displayName": "Varsha Garla",
      "userId": "14626546981268946451"
     }
    },
    "outputId": "9092dc63-a674-4375-bb93-e7fbb78c5963"
   },
   "execution_count": null,
   "outputs": []
  },
  {
   "cell_type": "code",
   "source": [
    "# Look at rows where the 'Monthly averaged' is not null\n",
    "# Multiple rows per year\n",
    "atmosphere_df[~atmosphere_df['Monthly averaged'].isnull()][['Entity', 'Date', 'Monthly averaged']].head()"
   ],
   "metadata": {
    "colab": {
     "base_uri": "https://localhost:8080/",
     "height": 206
    },
    "id": "fTC8Bz97aBC1",
    "executionInfo": {
     "status": "ok",
     "timestamp": 1685907768604,
     "user_tz": 240,
     "elapsed": 12,
     "user": {
      "displayName": "Varsha Garla",
      "userId": "14626546981268946451"
     }
    },
    "outputId": "490f8f49-1e7d-4ec8-ce66-2aa1142662bd"
   },
   "execution_count": null,
   "outputs": []
  },
  {
   "cell_type": "code",
   "source": [
    "# Keep rows where 'Monthly averaged' value is not null\n",
    "atmosphere_df = atmosphere_df[~atmosphere_df['Monthly averaged'].isnull()].copy()"
   ],
   "metadata": {
    "id": "EDdr24NgfPbZ",
    "executionInfo": {
     "status": "ok",
     "timestamp": 1685907770140,
     "user_tz": 240,
     "elapsed": 223,
     "user": {
      "displayName": "Varsha Garla",
      "userId": "14626546981268946451"
     }
    }
   },
   "execution_count": null,
   "outputs": []
  },
  {
   "cell_type": "code",
   "source": [
    "# Check\n",
    "atmosphere_df.sample()[['Date', 'year', 'month']]"
   ],
   "metadata": {
    "colab": {
     "base_uri": "https://localhost:8080/",
     "height": 81
    },
    "id": "RTLkxDyhbJgZ",
    "executionInfo": {
     "status": "ok",
     "timestamp": 1685907771597,
     "user_tz": 240,
     "elapsed": 289,
     "user": {
      "displayName": "Varsha Garla",
      "userId": "14626546981268946451"
     }
    },
    "outputId": "f48e64d4-1379-46db-c315-e4061018eb6f"
   },
   "execution_count": null,
   "outputs": []
  },
  {
   "cell_type": "code",
   "source": [
    "# What is the date range available?\n",
    "atmosphere_df.Date.min(), atmosphere_df.Date.max()"
   ],
   "metadata": {
    "colab": {
     "base_uri": "https://localhost:8080/"
    },
    "id": "a71EWOcsbQMK",
    "executionInfo": {
     "status": "ok",
     "timestamp": 1685907772757,
     "user_tz": 240,
     "elapsed": 231,
     "user": {
      "displayName": "Varsha Garla",
      "userId": "14626546981268946451"
     }
    },
    "outputId": "24a026d6-ac89-4e37-9eb0-dc113db86bef"
   },
   "execution_count": null,
   "outputs": []
  },
  {
   "cell_type": "code",
   "source": [
    "# Check:\n",
    "atmosphere_df.Date.min(), atmosphere_df.Date.max()"
   ],
   "metadata": {
    "colab": {
     "base_uri": "https://localhost:8080/"
    },
    "id": "lKwD6Yx-b0w6",
    "executionInfo": {
     "status": "ok",
     "timestamp": 1685907798048,
     "user_tz": 240,
     "elapsed": 219,
     "user": {
      "displayName": "Varsha Garla",
      "userId": "14626546981268946451"
     }
    },
    "outputId": "1cfcdf81-6384-4dc3-c9a5-2fac1f43f4ca"
   },
   "execution_count": null,
   "outputs": []
  },
  {
   "cell_type": "code",
   "source": [
    "# Which months are available for each year?\n",
    "atmosphere_df.groupby('year')['month'].unique()"
   ],
   "metadata": {
    "colab": {
     "base_uri": "https://localhost:8080/"
    },
    "id": "DFSz9jOUb8KQ",
    "executionInfo": {
     "status": "ok",
     "timestamp": 1685907799396,
     "user_tz": 240,
     "elapsed": 229,
     "user": {
      "displayName": "Varsha Garla",
      "userId": "14626546981268946451"
     }
    },
    "outputId": "8d087a41-4617-4e92-f530-f1724328652f"
   },
   "execution_count": null,
   "outputs": []
  },
  {
   "cell_type": "code",
   "source": [
    "atmosphere_df[['Entity', 'Date', 'year', 'month', 'Annual averaged']].head(10)"
   ],
   "metadata": {
    "colab": {
     "base_uri": "https://localhost:8080/",
     "height": 363
    },
    "id": "ZgQAMVBXdExU",
    "executionInfo": {
     "status": "ok",
     "timestamp": 1685907800976,
     "user_tz": 240,
     "elapsed": 220,
     "user": {
      "displayName": "Varsha Garla",
      "userId": "14626546981268946451"
     }
    },
    "outputId": "3c2da181-b721-437a-d5bd-77718ff6bb5e"
   },
   "execution_count": null,
   "outputs": []
  },
  {
   "cell_type": "code",
   "source": [
    "# first pass at line chart\n",
    "plt.box(False) # removing frame reduces non-data ink\n",
    "plt.plot(atmosphere_df['Date'], atmosphere_df['Annual averaged'], color=\"#003BA4\") #color in style guide\n",
    "plt.ylabel('Atmospheric CO2 Concentration (ppm)', fontsize=12) #fontsize determined to be legible on screen\n",
    "plt.xticks(fontsize=12)\n",
    "plt.yticks(fontsize=12)\n",
    "plt.savefig(output_path + 'co2_concentrations')"
   ],
   "metadata": {
    "colab": {
     "base_uri": "https://localhost:8080/",
     "height": 434
    },
    "id": "5i3mGABYd7zM",
    "executionInfo": {
     "status": "ok",
     "timestamp": 1685907956690,
     "user_tz": 240,
     "elapsed": 624,
     "user": {
      "displayName": "Varsha Garla",
      "userId": "14626546981268946451"
     }
    },
    "outputId": "7599829e-1cc6-4c4a-a43d-c33eb078793f"
   },
   "execution_count": null,
   "outputs": []
  },
  {
   "cell_type": "markdown",
   "source": [
    "## Temperature Rising Over Time"
   ],
   "metadata": {
    "id": "-oh7vsX0PseI"
   }
  },
  {
   "cell_type": "markdown",
   "source": [
    "Data source: https://ourworldindata.org/co2-and-greenhouse-gas-emissions"
   ],
   "metadata": {
    "id": "f8I0A2Q3yMBj"
   }
  },
  {
   "cell_type": "code",
   "source": [
    "# load dataset\n",
    "temp_df = pd.read_csv(data_path + 'temperature-anomaly.csv')\n",
    "temp_df.sample()"
   ],
   "metadata": {
    "colab": {
     "base_uri": "https://localhost:8080/",
     "height": 194
    },
    "id": "9_ob6YmaxKBH",
    "executionInfo": {
     "status": "ok",
     "timestamp": 1685908053887,
     "user_tz": 240,
     "elapsed": 527,
     "user": {
      "displayName": "Varsha Garla",
      "userId": "14626546981268946451"
     }
    },
    "outputId": "7950042b-8c11-4a15-eaf7-f7a836232b69"
   },
   "execution_count": null,
   "outputs": []
  },
  {
   "cell_type": "code",
   "source": [
    "temp_df.dtypes"
   ],
   "metadata": {
    "colab": {
     "base_uri": "https://localhost:8080/"
    },
    "id": "tcm7O9Yu4yr8",
    "executionInfo": {
     "status": "ok",
     "timestamp": 1685907988600,
     "user_tz": 240,
     "elapsed": 5,
     "user": {
      "displayName": "Varsha Garla",
      "userId": "14626546981268946451"
     }
    },
    "outputId": "5eda1a10-76b9-4f2a-8c02-06b361cf2c04"
   },
   "execution_count": null,
   "outputs": []
  },
  {
   "cell_type": "code",
   "source": [
    "temp_df['Entity'].unique()"
   ],
   "metadata": {
    "colab": {
     "base_uri": "https://localhost:8080/"
    },
    "id": "Olpoe3Bw6r8p",
    "executionInfo": {
     "status": "ok",
     "timestamp": 1685907989447,
     "user_tz": 240,
     "elapsed": 5,
     "user": {
      "displayName": "Varsha Garla",
      "userId": "14626546981268946451"
     }
    },
    "outputId": "9e442c3c-4fcf-41b0-8710-527463f580af"
   },
   "execution_count": null,
   "outputs": []
  },
  {
   "cell_type": "code",
   "source": [
    "# Only keep rows for 'Global' to look at global temperature\n",
    "temp_df = temp_df[temp_df['Entity']=='Global'].copy()"
   ],
   "metadata": {
    "id": "qcavS4t660Yj",
    "executionInfo": {
     "status": "ok",
     "timestamp": 1685907989926,
     "user_tz": 240,
     "elapsed": 7,
     "user": {
      "displayName": "Varsha Garla",
      "userId": "14626546981268946451"
     }
    }
   },
   "execution_count": null,
   "outputs": []
  },
  {
   "cell_type": "code",
   "source": [
    "temp_df.shape"
   ],
   "metadata": {
    "colab": {
     "base_uri": "https://localhost:8080/"
    },
    "id": "zXo-pGIt6_t4",
    "executionInfo": {
     "status": "ok",
     "timestamp": 1685907990585,
     "user_tz": 240,
     "elapsed": 5,
     "user": {
      "displayName": "Varsha Garla",
      "userId": "14626546981268946451"
     }
    },
    "outputId": "02ea37f1-10b8-4049-aec7-db81a7a84342"
   },
   "execution_count": null,
   "outputs": []
  },
  {
   "cell_type": "code",
   "source": [
    "temp_df.Year.unique()"
   ],
   "metadata": {
    "colab": {
     "base_uri": "https://localhost:8080/"
    },
    "id": "98UAgt_A8P1N",
    "executionInfo": {
     "status": "ok",
     "timestamp": 1685907991784,
     "user_tz": 240,
     "elapsed": 6,
     "user": {
      "displayName": "Varsha Garla",
      "userId": "14626546981268946451"
     }
    },
    "outputId": "bbb7fa91-0953-465d-9e1e-59db11c81230"
   },
   "execution_count": null,
   "outputs": []
  },
  {
   "cell_type": "code",
   "source": [
    "temp_df.sample(10)"
   ],
   "metadata": {
    "colab": {
     "base_uri": "https://localhost:8080/",
     "height": 459
    },
    "id": "SXAsAHJG7CZD",
    "executionInfo": {
     "status": "ok",
     "timestamp": 1685907992791,
     "user_tz": 240,
     "elapsed": 17,
     "user": {
      "displayName": "Varsha Garla",
      "userId": "14626546981268946451"
     }
    },
    "outputId": "46cea80f-7fb3-4131-8e2e-85af812218e2"
   },
   "execution_count": null,
   "outputs": []
  },
  {
   "cell_type": "code",
   "source": [
    "# first pass\n",
    "# line chart\n",
    "plt.plot(temp_df['Year'], temp_df['Global average temperature anomaly relative to 1961-1990'])"
   ],
   "metadata": {
    "colab": {
     "base_uri": "https://localhost:8080/",
     "height": 450
    },
    "id": "uQHWwMD5WLEW",
    "executionInfo": {
     "status": "ok",
     "timestamp": 1685907994177,
     "user_tz": 240,
     "elapsed": 262,
     "user": {
      "displayName": "Varsha Garla",
      "userId": "14626546981268946451"
     }
    },
    "outputId": "f6e67f47-1553-4b14-8a78-920e7f679ff4"
   },
   "execution_count": null,
   "outputs": []
  },
  {
   "cell_type": "code",
   "source": [
    "# Which year had the highest temperature?\n",
    "temp_df[temp_df['Global average temperature anomaly relative to 1961-1990']==temp_df['Global average temperature anomaly relative to 1961-1990'].max()]"
   ],
   "metadata": {
    "colab": {
     "base_uri": "https://localhost:8080/",
     "height": 177
    },
    "id": "GoQ27TDhyUcQ",
    "executionInfo": {
     "status": "ok",
     "timestamp": 1685907996825,
     "user_tz": 240,
     "elapsed": 9,
     "user": {
      "displayName": "Varsha Garla",
      "userId": "14626546981268946451"
     }
    },
    "outputId": "f3dd2506-6410-4a1d-fa3b-0ce8302faefc"
   },
   "execution_count": null,
   "outputs": []
  },
  {
   "cell_type": "code",
   "source": [
    "# Sort based on temperature change:\n",
    "temp_df.sort_values('Global average temperature anomaly relative to 1961-1990', ascending=False)"
   ],
   "metadata": {
    "colab": {
     "base_uri": "https://localhost:8080/",
     "height": 1000
    },
    "id": "zAbei_H-y3Ed",
    "executionInfo": {
     "status": "ok",
     "timestamp": 1685907999277,
     "user_tz": 240,
     "elapsed": 223,
     "user": {
      "displayName": "Varsha Garla",
      "userId": "14626546981268946451"
     }
    },
    "outputId": "0abd7144-1166-4250-a150-7c0e29d6eeb5"
   },
   "execution_count": null,
   "outputs": []
  },
  {
   "cell_type": "code",
   "source": [
    "# line chart\n",
    "#plt.figure(figsize=(9,5))\n",
    "plt.box(False)\n",
    "plt.title('Global Mean Surface Temperature Change', fontsize=12)\n",
    "plt.axhline(y=0, color='0.8') #plot horizontal line, indicating zero change from baseline average temperature\n",
    "plt.plot(temp_df['Year'], temp_df['Global average temperature anomaly relative to 1961-1990'], color=\"#003BA4\")\n",
    "plt.ylabel('Difference (°C) from 1961-1990 baseline', fontsize=12)\n",
    "plt.xticks(fontsize=12)\n",
    "plt.yticks(fontsize=12)\n",
    "plt.savefig(output_path + 'surface_temperatures.png')"
   ],
   "metadata": {
    "colab": {
     "base_uri": "https://localhost:8080/",
     "height": 456
    },
    "id": "nIKt0VXKfBpo",
    "executionInfo": {
     "status": "ok",
     "timestamp": 1685908027530,
     "user_tz": 240,
     "elapsed": 576,
     "user": {
      "displayName": "Varsha Garla",
      "userId": "14626546981268946451"
     }
    },
    "outputId": "43fc3c47-6498-4c99-a5c2-505799430d70"
   },
   "execution_count": null,
   "outputs": []
  },
  {
   "cell_type": "markdown",
   "source": [
    "## Change in Sea Levels Over Time"
   ],
   "metadata": {
    "id": "fLddU-e-PzFI"
   }
  },
  {
   "cell_type": "markdown",
   "source": [
    "Source: https://www.epa.gov/climate-indicators/climate-change-indicators-sea-level"
   ],
   "metadata": {
    "id": "8PTeS0n1fcZd"
   }
  },
  {
   "cell_type": "code",
   "source": [
    "sea_df = pd.read_csv(data_path + 'sea-level_fig-1.csv')"
   ],
   "metadata": {
    "id": "OfB1msoX6yjJ",
    "executionInfo": {
     "status": "ok",
     "timestamp": 1685908069248,
     "user_tz": 240,
     "elapsed": 283,
     "user": {
      "displayName": "Varsha Garla",
      "userId": "14626546981268946451"
     }
    }
   },
   "execution_count": null,
   "outputs": []
  },
  {
   "cell_type": "code",
   "source": [
    "sea_df.sample()"
   ],
   "metadata": {
    "colab": {
     "base_uri": "https://localhost:8080/",
     "height": 142
    },
    "id": "nyjc0oJ6fWKD",
    "executionInfo": {
     "status": "ok",
     "timestamp": 1685908070404,
     "user_tz": 240,
     "elapsed": 271,
     "user": {
      "displayName": "Varsha Garla",
      "userId": "14626546981268946451"
     }
    },
    "outputId": "170dcc0a-d6e1-42c4-eb2e-846724f90a57"
   },
   "execution_count": null,
   "outputs": []
  },
  {
   "cell_type": "code",
   "source": [
    "sea_df.dtypes"
   ],
   "metadata": {
    "colab": {
     "base_uri": "https://localhost:8080/"
    },
    "id": "NoKIVTe7fhjg",
    "executionInfo": {
     "status": "ok",
     "timestamp": 1685908071666,
     "user_tz": 240,
     "elapsed": 7,
     "user": {
      "displayName": "Varsha Garla",
      "userId": "14626546981268946451"
     }
    },
    "outputId": "b5ec98a6-4a68-464f-96b3-f3fac568eb6c"
   },
   "execution_count": null,
   "outputs": []
  },
  {
   "cell_type": "code",
   "source": [
    "# Check which years CSIRO measure is available\n",
    "mask = ~sea_df['CSIRO - Adjusted sea level (inches)'].isnull()\n",
    "sea_df[mask].Year.min(), sea_df[mask].Year.max()"
   ],
   "metadata": {
    "id": "fpzQW_oZfjBX",
    "colab": {
     "base_uri": "https://localhost:8080/"
    },
    "executionInfo": {
     "status": "ok",
     "timestamp": 1685908073271,
     "user_tz": 240,
     "elapsed": 252,
     "user": {
      "displayName": "Varsha Garla",
      "userId": "14626546981268946451"
     }
    },
    "outputId": "82b5f258-cde0-40b7-b1cd-ed6dc1f5ac44"
   },
   "execution_count": null,
   "outputs": []
  },
  {
   "cell_type": "code",
   "source": [
    "# Check which years CSIRO measure is available\n",
    "mask = ~sea_df['NOAA - Adjusted sea level (inches)'].isnull()\n",
    "sea_df[mask].Year.min(), sea_df[mask].Year.max()"
   ],
   "metadata": {
    "colab": {
     "base_uri": "https://localhost:8080/"
    },
    "id": "dOyM9eFxgW3K",
    "executionInfo": {
     "status": "ok",
     "timestamp": 1685908074682,
     "user_tz": 240,
     "elapsed": 239,
     "user": {
      "displayName": "Varsha Garla",
      "userId": "14626546981268946451"
     }
    },
    "outputId": "2c1c51cf-18bd-4a5f-c8ae-9f2416cc6037"
   },
   "execution_count": null,
   "outputs": []
  },
  {
   "cell_type": "markdown",
   "source": [
    "There is some overlap, but we will want to show both measures to depict the larger date range of 1880 to 2021."
   ],
   "metadata": {
    "id": "dmVhrqn4glQR"
   }
  },
  {
   "cell_type": "code",
   "source": [
    "# How many measurements per year?\n",
    "sea_df.groupby('Year')['CSIRO - Adjusted sea level (inches)'].nunique().value_counts(dropna=False)"
   ],
   "metadata": {
    "colab": {
     "base_uri": "https://localhost:8080/"
    },
    "id": "m4uT6dobgiqC",
    "executionInfo": {
     "status": "ok",
     "timestamp": 1685908076161,
     "user_tz": 240,
     "elapsed": 239,
     "user": {
      "displayName": "Varsha Garla",
      "userId": "14626546981268946451"
     }
    },
    "outputId": "be75a104-7579-4632-d9eb-0dd2f979e344"
   },
   "execution_count": null,
   "outputs": []
  },
  {
   "cell_type": "code",
   "source": [
    "# How many measurements per year?\n",
    "sea_df.groupby('Year')['NOAA - Adjusted sea level (inches)'].nunique().value_counts(dropna=False)"
   ],
   "metadata": {
    "colab": {
     "base_uri": "https://localhost:8080/"
    },
    "id": "S_gc4j2igxnb",
    "executionInfo": {
     "status": "ok",
     "timestamp": 1685908077403,
     "user_tz": 240,
     "elapsed": 229,
     "user": {
      "displayName": "Varsha Garla",
      "userId": "14626546981268946451"
     }
    },
    "outputId": "b650b3db-9b4e-4c00-acf6-de93e65d9438"
   },
   "execution_count": null,
   "outputs": []
  },
  {
   "cell_type": "code",
   "source": [
    "# first pass\n",
    "plt.box(False)\n",
    "plt.plot(sea_df['Year'], sea_df['CSIRO - Adjusted sea level (inches)'], color=\"#003BA4\")\n",
    "plt.plot(sea_df['Year'], sea_df['NOAA - Adjusted sea level (inches)'])\n",
    "plt.ylabel('Cumulative Sea Level Change (inches)', fontsize=12)\n",
    "plt.xticks(fontsize=12)\n",
    "plt.yticks(fontsize=12)"
   ],
   "metadata": {
    "colab": {
     "base_uri": "https://localhost:8080/",
     "height": 590
    },
    "id": "kiZWOigWg64w",
    "executionInfo": {
     "status": "ok",
     "timestamp": 1685908079752,
     "user_tz": 240,
     "elapsed": 259,
     "user": {
      "displayName": "Varsha Garla",
      "userId": "14626546981268946451"
     }
    },
    "outputId": "d9d3416f-a4a0-4949-a0de-6ae381adab3e"
   },
   "execution_count": null,
   "outputs": []
  },
  {
   "cell_type": "code",
   "source": [
    "# final\n",
    "plt.box(False)\n",
    "plt.plot(sea_df['Year'], sea_df['CSIRO - Adjusted sea level (inches)'], color=\"#003BA4\", label='Tide gauge measurements (1880-2013)')\n",
    "plt.plot(sea_df['Year'], sea_df['NOAA - Adjusted sea level (inches)'], label='Satellite measurements (1993-2021)')\n",
    "plt.legend(loc='best') #Add legend to distinguish where each line comes from\n",
    "plt.ylabel('Cumulative Sea Level Change (inches)', fontsize=12)\n",
    "plt.xticks(fontsize=12)\n",
    "plt.yticks(fontsize=12)\n",
    "plt.savefig(output_path + 'sea_levels.png')"
   ],
   "metadata": {
    "colab": {
     "base_uri": "https://localhost:8080/",
     "height": 434
    },
    "id": "uekbb5-ZhINI",
    "executionInfo": {
     "status": "ok",
     "timestamp": 1685908111058,
     "user_tz": 240,
     "elapsed": 514,
     "user": {
      "displayName": "Varsha Garla",
      "userId": "14626546981268946451"
     }
    },
    "outputId": "38091fa1-7fb6-4b57-e600-70005fc1f7b0"
   },
   "execution_count": null,
   "outputs": []
  },
  {
   "cell_type": "code",
   "source": [],
   "metadata": {
    "id": "SxEbIHJuiJQN"
   },
   "execution_count": null,
   "outputs": []
  }
 ]
}
