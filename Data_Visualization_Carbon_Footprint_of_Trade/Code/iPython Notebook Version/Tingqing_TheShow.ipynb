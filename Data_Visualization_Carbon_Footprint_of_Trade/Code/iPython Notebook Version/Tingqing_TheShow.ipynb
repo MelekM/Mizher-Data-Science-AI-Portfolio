{
 "nbformat": 4,
 "nbformat_minor": 0,
 "metadata": {
  "colab": {
   "provenance": [
    {
     "file_id": "18myD0PwtQfPEMYct4E8SgbartHmC8LyJ",
     "timestamp": 1685856571191
    }
   ]
  },
  "kernelspec": {
   "name": "python3",
   "display_name": "Python 3"
  },
  "language_info": {
   "name": "python"
  }
 },
 "cells": [
  {
   "cell_type": "markdown",
   "source": [
    "##MSDS 455 The Show \n",
    "Tingqing Wu  \n",
    "OECD and Non-OECD member countries in gross exports  \n",
    "Data visualization preparation "
   ],
   "metadata": {
    "id": "N4yqBv4ofwrJ"
   }
  },
  {
   "cell_type": "code",
   "execution_count": null,
   "metadata": {
    "id": "BDbgMfPUwKdm"
   },
   "outputs": [],
   "source": [
    "import pandas as pd\n",
    "import matplotlib.pyplot as plt\n",
    "import seaborn as sns\n",
    "import io\n",
    "import os"
   ]
  },
  {
   "cell_type": "code",
   "source": [
    "from google.colab import drive\n",
    "drive.mount('/content/drive')"
   ],
   "metadata": {
    "colab": {
     "base_uri": "https://localhost:8080/"
    },
    "id": "HbnxG0ylj5O4",
    "executionInfo": {
     "status": "ok",
     "timestamp": 1685919101718,
     "user_tz": 300,
     "elapsed": 1823,
     "user": {
      "displayName": "T W",
      "userId": "16550898238717574096"
     }
    },
    "outputId": "68c1dced-33c6-4c3b-c6dc-bd394393c7a0"
   },
   "execution_count": null,
   "outputs": []
  },
  {
   "cell_type": "code",
   "source": [
    "#Upload data (csv.) from local drive\n",
    "from google.colab import files\n",
    "uploaded = files.upload()"
   ],
   "metadata": {
    "id": "j-AVf1Vn2pnb",
    "colab": {
     "base_uri": "https://localhost:8080/",
     "height": 110
    },
    "executionInfo": {
     "status": "ok",
     "timestamp": 1685919152179,
     "user_tz": 300,
     "elapsed": 8551,
     "user": {
      "displayName": "T W",
      "userId": "16550898238717574096"
     }
    },
    "outputId": "a525c3fd-e173-4e23-bf36-4860a35f9a54"
   },
   "execution_count": null,
   "outputs": []
  },
  {
   "cell_type": "code",
   "source": [
    "# Read the CSV file\n",
    "Exports = pd.read_csv(io.BytesIO(uploaded['Total CO2 Emissions in gross exports.csv']), encoding='unicode_escape')"
   ],
   "metadata": {
    "id": "AYs3qNIIwTpr"
   },
   "execution_count": null,
   "outputs": []
  },
  {
   "cell_type": "code",
   "source": [
    "Exports.head()"
   ],
   "metadata": {
    "colab": {
     "base_uri": "https://localhost:8080/",
     "height": 421
    },
    "id": "BK8HR_Vi7RZ6",
    "executionInfo": {
     "status": "ok",
     "timestamp": 1685919157703,
     "user_tz": 300,
     "elapsed": 32,
     "user": {
      "displayName": "T W",
      "userId": "16550898238717574096"
     }
    },
    "outputId": "43ca3414-6400-44a2-a5af-60b9ecff5c03"
   },
   "execution_count": null,
   "outputs": []
  },
  {
   "cell_type": "code",
   "source": [
    "# Split the countries columns to analyzable column names\n",
    "split_columns = [x.split(\":\") for x in Exports[\"Time\"]]\n",
    "Exports[\"PAR\"] = [x[0] for x in split_columns]\n",
    "Exports[\"Country\"] = [x[1] for x in split_columns]"
   ],
   "metadata": {
    "id": "3UYK2TcVwUcq"
   },
   "execution_count": null,
   "outputs": []
  },
  {
   "cell_type": "code",
   "source": [
    "# Print the column names\n",
    "col_name = Exports.columns\n",
    "print(col_name)"
   ],
   "metadata": {
    "colab": {
     "base_uri": "https://localhost:8080/"
    },
    "id": "VxeOFB57zY1g",
    "executionInfo": {
     "status": "ok",
     "timestamp": 1685919157705,
     "user_tz": 300,
     "elapsed": 29,
     "user": {
      "displayName": "T W",
      "userId": "16550898238717574096"
     }
    },
    "outputId": "e322787e-0d4a-4680-d6c9-7e4627490e00"
   },
   "execution_count": null,
   "outputs": []
  },
  {
   "cell_type": "code",
   "source": [
    "# Subset the data for OECD and NON-OECD to use the latest 10 years of the available data\n",
    "Total_long = Exports[Exports[\"PAR\"].isin([\"OECD\", \"NONOECD\"])]\n",
    "Total_long = Total_long[[\"2008\", \"2009\", \"2010\", \"2011\", \"2012\", \"2013\", \"2014\", \"2015\", \"2016\", \"2017\", \"2018\", \"Country\"]]"
   ],
   "metadata": {
    "id": "7wOUHU8vzdKd"
   },
   "execution_count": null,
   "outputs": []
  },
  {
   "cell_type": "code",
   "source": [
    "# The structure of the downloaded data was in a wide format where the columns was Time. Restructuring the data\n",
    "# Reshape the data structure from wide to long \n",
    "\n",
    "Total_long = Total_long.melt(id_vars=[\"Country\"], var_name=\"Time\", value_name=\"Value\")\n",
    "Total_long[\"Time\"] = Total_long[\"Time\"].str.replace(\"[^0-9]\", \"\").astype(int)\n",
    "Total_long[\"Value\"] = Total_long[\"Value\"].str.replace(\",\", \"\").astype(float)"
   ],
   "metadata": {
    "colab": {
     "base_uri": "https://localhost:8080/"
    },
    "id": "yAf_xqeozlvn",
    "executionInfo": {
     "status": "ok",
     "timestamp": 1685919157708,
     "user_tz": 300,
     "elapsed": 26,
     "user": {
      "displayName": "T W",
      "userId": "16550898238717574096"
     }
    },
    "outputId": "6e331a9b-846a-4fa3-a5be-22e7a8afed6f"
   },
   "execution_count": null,
   "outputs": []
  },
  {
   "cell_type": "code",
   "source": [
    "#statistics\n",
    "average_by_year = Total_long.groupby(['Time', 'Country'])['Value'].mean()\n",
    "average_by_year"
   ],
   "metadata": {
    "colab": {
     "base_uri": "https://localhost:8080/"
    },
    "id": "H586qKFJzsRe",
    "executionInfo": {
     "status": "ok",
     "timestamp": 1685919157709,
     "user_tz": 300,
     "elapsed": 23,
     "user": {
      "displayName": "T W",
      "userId": "16550898238717574096"
     }
    },
    "outputId": "a202210f-b2ed-46ee-ef77-e0110dd6af3d"
   },
   "execution_count": null,
   "outputs": []
  },
  {
   "cell_type": "code",
   "source": [
    "# Create line plot for OECD vs Non-OECD\n",
    "sns.set_style(\"ticks\")\n",
    "plt.figure(figsize=(8, 6))\n",
    "plt.box(False)\n",
    "plt.xticks(fontsize=12)\n",
    "plt.yticks(fontsize=12)\n",
    "sns.lineplot(data=Total_long, x=\"Time\", y=\"Value\", hue=\"Country\", palette=\"husl\", errorbar=None)\n",
    "plt.xlabel(None)\n",
    "plt.ylabel(\"CO2 Emissions (Tons, Millions)\", size=12)\n",
    "#plt.title(\"Total CO2 Emissions Embodied in Gross Exports\") # removed title and put as slide header\n",
    "plt.ylim(0, 3500)\n",
    "plt.legend(frameon=False,  loc='lower right')\n",
    "plt.show()"
   ],
   "metadata": {
    "colab": {
     "base_uri": "https://localhost:8080/",
     "height": 553
    },
    "id": "gWapiD_yzo77",
    "executionInfo": {
     "status": "ok",
     "timestamp": 1685919158828,
     "user_tz": 300,
     "elapsed": 1138,
     "user": {
      "displayName": "T W",
      "userId": "16550898238717574096"
     }
    },
    "outputId": "60133a94-a243-429d-a743-ede7fb4f30c7"
   },
   "execution_count": null,
   "outputs": []
  },
  {
   "cell_type": "code",
   "source": [
    "# Subset the data to look at each OECD country\n",
    "OECD_long = Exports[(Exports[\"Group\"] == \"OECD\") & (Exports['Country'] != \" OECD member countries\")]\n",
    "OECD_long = OECD_long[[\"2008\", \"2009\", \"2010\", \"2011\", \"2012\", \"2013\", \"2014\", \"2015\", \"2016\", \"2017\", \"2018\", \"Country\"]]"
   ],
   "metadata": {
    "id": "0ESB49ZKzxzr"
   },
   "execution_count": null,
   "outputs": []
  },
  {
   "cell_type": "code",
   "source": [
    "# Reshape the data: wide to long\n",
    "OECD_long = OECD_long.melt(id_vars=[\"Country\"], var_name=\"Time\", value_name=\"Value\")\n",
    "OECD_long[\"Time\"] = OECD_long[\"Time\"].str.replace(\"[^0-9]\", \"\").astype(int)\n",
    "OECD_long[\"Value\"] = OECD_long[\"Value\"].str.replace(\",\", \"\").astype(float)"
   ],
   "metadata": {
    "colab": {
     "base_uri": "https://localhost:8080/"
    },
    "id": "4pYtd1luz7HX",
    "executionInfo": {
     "status": "ok",
     "timestamp": 1685919158831,
     "user_tz": 300,
     "elapsed": 15,
     "user": {
      "displayName": "T W",
      "userId": "16550898238717574096"
     }
    },
    "outputId": "39610dcd-910d-471c-91d4-1cb268268833"
   },
   "execution_count": null,
   "outputs": []
  },
  {
   "cell_type": "code",
   "source": [
    "#statistics\n",
    "average_by_country = OECD_long.groupby(['Country'])['Value'].mean()\n",
    "average_by_country"
   ],
   "metadata": {
    "colab": {
     "base_uri": "https://localhost:8080/"
    },
    "id": "qJzjyAQZ0MzF",
    "executionInfo": {
     "status": "ok",
     "timestamp": 1685919158831,
     "user_tz": 300,
     "elapsed": 12,
     "user": {
      "displayName": "T W",
      "userId": "16550898238717574096"
     }
    },
    "outputId": "c0e189c6-4980-4f4c-9c00-355d29c47259"
   },
   "execution_count": null,
   "outputs": []
  },
  {
   "cell_type": "code",
   "source": [
    "# Create line plot for each OECD country\n",
    "sns.set_style(\"ticks\")\n",
    "plt.figure(figsize=(8, 6))\n",
    "plt.xticks(fontsize=12)\n",
    "plt.yticks(fontsize=12)\n",
    "plt.box(False)\n",
    "sns.lineplot(data=OECD_long, x=\"Time\", y=\"Value\", hue=\"Country\", palette=\"husl\")\n",
    "plt.xlabel(None)\n",
    "plt.ylabel(\"CO2 Emissions (Tons, Millions)\", size=12)\n",
    "plt.title(None)\n",
    "# Set legend outside the plot\n",
    "plt.legend(frameon=False, ncol=2, loc='center left', bbox_to_anchor=(1, 0.5))\n",
    "plt.ylim(0, 800)\n",
    "plt.show()"
   ],
   "metadata": {
    "colab": {
     "base_uri": "https://localhost:8080/",
     "height": 533
    },
    "id": "citspXGEz8Md",
    "executionInfo": {
     "status": "ok",
     "timestamp": 1685919158832,
     "user_tz": 300,
     "elapsed": 11,
     "user": {
      "displayName": "T W",
      "userId": "16550898238717574096"
     }
    },
    "outputId": "d27e9c5d-1904-4e13-bd64-b66f8285e044"
   },
   "execution_count": null,
   "outputs": []
  }
 ]
}
