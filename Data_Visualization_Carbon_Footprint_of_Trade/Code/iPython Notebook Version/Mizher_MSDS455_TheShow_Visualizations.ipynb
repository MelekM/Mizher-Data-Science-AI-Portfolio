{
 "cells": [
  {
   "cell_type": "markdown",
   "metadata": {
    "collapsed": false,
    "id": "hfdATpxYMHzl"
   },
   "source": [
    "## MSDS 455 Data Visualization\n",
    "## Eggplant Group - The Show\n",
    "## Melek Mizher\n",
    "## Territorial Emission Data for 2021 extracted from The Global Carbon Budget 2022 by the Global Carbon Project\n",
    "## https://www.globalcarbonproject.org/carbonbudget\n",
    "## World Population Data for 2021 extracted from the World Bank https://datacatalog.worldbank.org/search/dataset/0037712\n",
    "## World GeoJSON Data from https://datahub.io/core/geo-countries#data\n",
    "##"
   ]
  },
  {
   "cell_type": "markdown",
   "metadata": {
    "collapsed": false,
    "id": "t3FTesWBMHzz"
   },
   "source": [
    "  # Required Dependencies"
   ]
  },
  {
   "cell_type": "code",
   "execution_count": null,
   "metadata": {
    "colab": {
     "base_uri": "https://localhost:8080/"
    },
    "id": "hMskXamCMHz0",
    "outputId": "d1ce66a6-74aa-499c-d529-77116faee6d8",
    "pycharm": {
     "is_executing": true
    },
    "executionInfo": {
     "status": "ok",
     "timestamp": 1685918205525,
     "user_tz": 300,
     "elapsed": 8897,
     "user": {
      "displayName": "T W",
      "userId": "16550898238717574096"
     }
    }
   },
   "outputs": [],
   "source": [
    "#!pip install folium\n",
    "#!pip install geopandas\n",
    "#!pip install openpyxl"
   ]
  },
  {
   "cell_type": "markdown",
   "metadata": {
    "collapsed": false,
    "id": "UMu4xfezMHz1"
   },
   "source": [
    "\n",
    "# Import Required Libraries"
   ]
  },
  {
   "cell_type": "code",
   "execution_count": null,
   "metadata": {
    "collapsed": true,
    "id": "DuDreNtKMHz1",
    "executionInfo": {
     "status": "ok",
     "timestamp": 1685918216604,
     "user_tz": 300,
     "elapsed": 604,
     "user": {
      "displayName": "T W",
      "userId": "16550898238717574096"
     }
    }
   },
   "outputs": [],
   "source": [
    "# For DataFrame Structure and Data Manipulation\n",
    "import pandas as pd\n",
    "# For Map Structures\n",
    "import folium\n",
    "\n",
    "# To manipulate the GeoJson file\n",
    "import geopandas as gpd\n",
    "\n",
    "# To generate legend using HTML\n",
    "from branca.element import Template, MacroElement\n",
    "from folium import LayerControl\n",
    "\n",
    "# To navigate system and save HTML maps\n",
    "import os"
   ]
  },
  {
   "cell_type": "markdown",
   "source": [
    "# Import Datasets"
   ],
   "metadata": {
    "collapsed": false,
    "id": "2VOEofmPfJl-"
   }
  },
  {
   "cell_type": "code",
   "execution_count": null,
   "outputs": [],
   "source": [
    "#Find Current Directory for this Notebook\n",
    "code_directory = os.getcwd()\n",
    "\n",
    "# Navigate back to the EggplantGroup_MSDS455_TheShow directory. The two dots signify moving one step up the directory.\n",
    "TheShow_directory = os.path.abspath(os.path.join(code_directory, \"..\"))"
   ],
   "metadata": {
    "id": "5q4H66iufJl_",
    "executionInfo": {
     "status": "ok",
     "timestamp": 1685918221336,
     "user_tz": 300,
     "elapsed": 250,
     "user": {
      "displayName": "T W",
      "userId": "16550898238717574096"
     }
    }
   }
  },
  {
   "cell_type": "code",
   "execution_count": null,
   "metadata": {
    "id": "IYZzrdUtMHz2",
    "colab": {
     "base_uri": "https://localhost:8080/",
     "height": 380
    },
    "executionInfo": {
     "status": "error",
     "timestamp": 1685918223223,
     "user_tz": 300,
     "elapsed": 456,
     "user": {
      "displayName": "T W",
      "userId": "16550898238717574096"
     }
    },
    "outputId": "b3ba9f88-264a-4183-e6de-32954ba3e21d"
   },
   "outputs": [],
   "source": [
    "#Local File Access\n",
    "map_data_path = os.path.join(TheShow_directory, 'Data/Raw Data/World Map GeoJson Data/countries.geojson')\n",
    "emissions_data_path = os.path.join(TheShow_directory, 'Data/Processed Data/OECD Introduction Section/Global_Per_Capita_Carbon_Emissions.xlsx')\n",
    "\n",
    "#Assigning Links Hosted in Github to Datasets to ensure Dynamic Usability\n",
    "#map_data_url = 'https://raw.githubusercontent.com/MelekM/EggplantGroup_MSDS455_TheShow/7abcb6743208e29386baad6f8da9968ceb5b69b1/Data/countries.geojson'\n",
    "#emissions_data_url = 'https://raw.githubusercontent.com/MelekM/EggplantGroup_MSDS455_TheShow/7abcb6743208e29386baad6f8da9968ceb5b69b1/Data/National_Fossil_Carbon_Emissions_2022v1.0.xlsx'\n",
    "\n",
    "#Create Dataframe containing data.\n",
    "#Openpyxl ensures that Pandas reads .xlsx type files correctly.\n",
    "emissions_df = pd.read_excel(emissions_data_path, sheet_name=\"Data_Of_Interest\", engine=\"openpyxl\")\n",
    "\n",
    "#Create Dataframe containing world map data for choropleth maps.\n",
    "map_df = gpd.read_file(map_data_path)"
   ]
  },
  {
   "cell_type": "code",
   "execution_count": null,
   "metadata": {
    "colab": {
     "base_uri": "https://localhost:8080/",
     "height": 423
    },
    "id": "O-c2RoDzMHz2",
    "outputId": "4c3b163b-26a3-4656-baff-0ccfd56863dd"
   },
   "outputs": [],
   "source": [
    "emissions_df"
   ]
  },
  {
   "cell_type": "code",
   "execution_count": null,
   "metadata": {
    "colab": {
     "base_uri": "https://localhost:8080/",
     "height": 206
    },
    "id": "Gua7_BIbMHz4",
    "outputId": "724b4b84-663f-4ebb-9176-7900201f3a0d"
   },
   "outputs": [],
   "source": [
    "map_df.head()"
   ]
  },
  {
   "cell_type": "code",
   "execution_count": null,
   "metadata": {
    "id": "43MTFRpxMHz5"
   },
   "outputs": [],
   "source": [
    "# Erase a Territory\n",
    "#map_df = map_df[map_df[\"Name\"] != \"Territory_Name\"]"
   ]
  },
  {
   "cell_type": "code",
   "execution_count": null,
   "metadata": {
    "id": "fvziOzByMHz7"
   },
   "outputs": [],
   "source": [
    "World = emissions_df.iloc[219]"
   ]
  },
  {
   "cell_type": "markdown",
   "metadata": {
    "collapsed": false,
    "id": "o_wyVK-HMHz7"
   },
   "source": [
    "### Excluding World totals from the Dataset that will be Mapped"
   ]
  },
  {
   "cell_type": "code",
   "execution_count": null,
   "metadata": {
    "id": "EwD5wiSUMHz7"
   },
   "outputs": [],
   "source": [
    "emissions_df = emissions_df.iloc[0:219]"
   ]
  },
  {
   "cell_type": "code",
   "execution_count": null,
   "metadata": {
    "colab": {
     "base_uri": "https://localhost:8080/"
    },
    "id": "ed_HVrGzMHz8",
    "outputId": "1a5d75ae-9d58-4884-a4f0-ddc8a2b023fe"
   },
   "outputs": [],
   "source": [
    "World"
   ]
  },
  {
   "cell_type": "markdown",
   "metadata": {
    "collapsed": false,
    "id": "HtmK8xbFMHz8"
   },
   "source": [
    "### Drop Countries or regions that have no data."
   ]
  },
  {
   "cell_type": "code",
   "execution_count": null,
   "metadata": {
    "id": "izVeH2aTMHz9"
   },
   "outputs": [],
   "source": [
    "emissions_df = emissions_df.dropna(how='any')"
   ]
  },
  {
   "cell_type": "code",
   "execution_count": null,
   "metadata": {
    "colab": {
     "base_uri": "https://localhost:8080/"
    },
    "id": "4CpKBfJJMHz9",
    "outputId": "a1ca4ba0-35d9-4bdd-a04e-c3adccc47239"
   },
   "outputs": [],
   "source": [
    "emissions_df.info()"
   ]
  },
  {
   "cell_type": "code",
   "execution_count": null,
   "metadata": {
    "id": "zy1k8B-WP8Cp"
   },
   "outputs": [],
   "source": [
    "#Renaming Column\n",
    "emissions_df = emissions_df.rename(columns={'Country Code': 'ISO_A3'})"
   ]
  },
  {
   "cell_type": "markdown",
   "metadata": {
    "collapsed": false,
    "id": "obvLlMvsMHz9"
   },
   "source": [
    "# Choropleth Maps"
   ]
  },
  {
   "cell_type": "markdown",
   "metadata": {
    "collapsed": false,
    "id": "o08oM2YyMHz9"
   },
   "source": [
    "### Define Percentiles for Choropleth Map"
   ]
  },
  {
   "cell_type": "code",
   "execution_count": null,
   "metadata": {
    "id": "T4upai_AMHz-"
   },
   "outputs": [],
   "source": [
    "# Generate a Simple List with Percentiles\n",
    "percentiles_list = emissions_df['Per Capita MtCO2/year'].quantile([0, 0.2, 0.4, 0.6, 0.8, 1]).to_list()"
   ]
  },
  {
   "cell_type": "code",
   "execution_count": null,
   "outputs": [],
   "source": [
    "# Generate a Series with Percentiles\n",
    "percentiles = emissions_df['Per Capita MtCO2/year'].quantile([0, 0.2, 0.4, 0.6, 0.8, 1])"
   ],
   "metadata": {
    "id": "2zCyc9nWfJmJ"
   }
  },
  {
   "cell_type": "markdown",
   "metadata": {
    "collapsed": false,
    "id": "f4Bzp73bMHz_"
   },
   "source": [
    "### Generate Custom Scale Following Data Percentiles"
   ]
  },
  {
   "cell_type": "code",
   "execution_count": null,
   "metadata": {
    "id": "CVZuMg5mMHz_"
   },
   "outputs": [],
   "source": [
    "#colors = ['#63BFF0', '#A6CBE4', '#D7D7D7', '#E1A495', '#DE6E56']\n",
    "\n",
    "#Assigns the Percentile list to the Data as it gets mapped.\n",
    "values = [percentiles[0.2], percentiles[0.4], percentiles[0.6], round(percentiles[0.8],1)]\n",
    "\n",
    "#Assigns the Custom Scale to the Map.This has to start from 0 to ensure proper data scaling.\n",
    "custom_scale = percentiles_list"
   ]
  },
  {
   "cell_type": "markdown",
   "source": [
    "# Matching and Merging Data with the GeoJson Map Data for ease of Visualization"
   ],
   "metadata": {
    "collapsed": false,
    "id": "R5qOJkYjfJm3"
   }
  },
  {
   "cell_type": "code",
   "execution_count": null,
   "outputs": [],
   "source": [
    "# Matching ISO_A3 values between map data and country list\n",
    "emissions_map_df = map_df.loc[map_df['ISO_A3'].isin(emissions_df['ISO_A3'])]\n",
    "\n",
    "# Generating Emissions List\n",
    "emissions_map_code_list = emissions_map_df['ISO_A3'].tolist()\n",
    "\n",
    "#Create new filtered emissions dataframe that includes emission data for the previously matched countries\n",
    "filtered_emissions_df = emissions_df.loc[emissions_df['ISO_A3'].isin(emissions_map_code_list)]\n",
    "\n",
    "# Merge two dataframes on ISO_A3\n",
    "emissions_map_df = emissions_map_df.merge(filtered_emissions_df, on='ISO_A3', how='inner')\n"
   ],
   "metadata": {
    "id": "J6VQQA5HfJm3"
   }
  },
  {
   "cell_type": "code",
   "execution_count": null,
   "outputs": [],
   "source": [
    "emissions_map_df"
   ],
   "metadata": {
    "id": "yUhYEEaffJm4",
    "outputId": "b827a5b1-af7d-4cf2-c4f1-19e6c3d23922"
   }
  },
  {
   "cell_type": "code",
   "source": [
    "#Define Map Center, Size, and Style\n",
    "map_1 = folium.Map(location=[0, 0], zoom_start=2, tiles=\"Stamen Toner Background\")"
   ],
   "metadata": {
    "id": "WAo1Q_MEXNE4"
   },
   "execution_count": null,
   "outputs": []
  },
  {
   "cell_type": "code",
   "execution_count": null,
   "metadata": {
    "colab": {
     "base_uri": "https://localhost:8080/"
    },
    "id": "so3w0AHrWZ6p",
    "outputId": "2406b11e-a811-42a9-ca4f-31a9d001ffa1"
   },
   "outputs": [],
   "source": [
    "# Custom HTML Template for the Legend\n",
    "legend_template = \"\"\"\n",
    "<div style=\"position: fixed; bottom: 80px; right: 400px; z-index: 1000; background-color: white;\n",
    "             padding: 10px; border: 2px solid grey; font-size: 16px; font-family: 'Roboto', sans-serif;\">\n",
    "\n",
    "    <div style=\"font-weight: bold; margin-bottom: 5px;\">Metric Tons of CO2 Per Capita (2021)</div>\n",
    "    <div>\n",
    "        <div style=\"display: flex; align-items: center; margin-bottom: 5px;\">\n",
    "            <div style=\"width: 20px; height: 20px; background-color: #3d74ae; margin-right: 5px;\"></div>\n",
    "            <div>Very Low</div>\n",
    "        </div>\n",
    "        <div style=\"display: flex; align-items: center; margin-bottom: 5px;\">\n",
    "            <div style=\"width: 20px; height: 20px; background-color: #9cc3dd; margin-right: 5px;\"></div>\n",
    "            <div>Low</div>\n",
    "        </div>\n",
    "        <div style=\"display: flex; align-items: center; margin-bottom: 5px;\">\n",
    "            <div style=\"width: 20px; height: 20px; background-color: #f7f7f7; margin-right: 5px;\"></div>\n",
    "            <div>Average</div>\n",
    "        </div>\n",
    "        <div style=\"display: flex; align-items: center; margin-bottom: 5px;\">\n",
    "            <div style=\"width: 20px; height: 20px; background-color: #eba987; margin-right: 5px;\"></div>\n",
    "            <div>High</div>\n",
    "        </div>\n",
    "        <div style=\"display: flex; align-items: center;\">\n",
    "            <div style=\"width: 20px; height: 20px; background-color: #bb3a39; margin-right: 5px;\"></div>\n",
    "            <div>Very High</div>\n",
    "        </div>\n",
    "    </div>\n",
    "\n",
    "</div>\n",
    "\"\"\"\n",
    "\n",
    "# Generating the Legend Element\n",
    "legend = MacroElement()\n",
    "legend._template = Template(legend_template)\n",
    "\n",
    "# Add the choropleth and legend to the map\n",
    "folium.Choropleth(\n",
    "    geo_data=map_df,\n",
    "    name=\"Metric Tons of CO2 Per Capita (2021)\",\n",
    "    data=emissions_df,\n",
    "    columns=['ISO_A3', 'Per Capita MtCO2/year'],\n",
    "    key_on=\"feature.properties.ISO_A3\",\n",
    "    threshold_scale=custom_scale,\n",
    "    fill_color='RdBu_r',\n",
    "    nan_fill_color='transparent',\n",
    "    fill_opacity=0.9,\n",
    "    line_opacity=0.5\n",
    ").add_to(map_1)\n",
    "\n",
    "#Adding Legend to the Map\n",
    "map_1.get_root().html.add_child(folium.Element(legend_template))\n",
    "\n",
    "#Saving the Map as an HTML file\n",
    "map_1.save(os.path.join(TheShow_directory, 'Graphics/Maps/Per Capita MtCO2/PerCapita MtCO2 Stamen Toner Background.html'))\n",
    "\n",
    "#This is an extra step that ensures that the legend is added correctly\n",
    "LayerControl().add_to(map_1)"
   ]
  },
  {
   "cell_type": "code",
   "execution_count": null,
   "metadata": {
    "colab": {
     "background_save": true
    },
    "id": "cOE3e5kbMH0B",
    "outputId": "f54192d7-b330-4b71-b5e5-a140e12011d5"
   },
   "outputs": [],
   "source": [
    "#Display the Map\n",
    "map_1"
   ]
  },
  {
   "cell_type": "markdown",
   "source": [
    "# OECD Members"
   ],
   "metadata": {
    "collapsed": false,
    "id": "LQIAs_SqfJm9"
   }
  },
  {
   "cell_type": "code",
   "execution_count": null,
   "metadata": {
    "id": "pc8ug2sAMH0B"
   },
   "outputs": [],
   "source": [
    "#Renaming the column values for OECD membership to ease assignment\n",
    "map_2_df = emissions_df[[\"ISO_A3\", \"OECD\"]]\n",
    "map_2_df.loc[:, 'OECD'] = map_2_df['OECD'].apply(lambda x: 1 if x == \"Member\" else 0)"
   ]
  },
  {
   "cell_type": "code",
   "execution_count": null,
   "metadata": {
    "colab": {
     "base_uri": "https://localhost:8080/"
    },
    "id": "JgyQZDsMMH0B",
    "outputId": "cc990ec2-4be6-4c64-e3f1-cd2bca8f6d3f"
   },
   "outputs": [],
   "source": [
    "print(map_2_df)"
   ]
  },
  {
   "cell_type": "code",
   "execution_count": null,
   "outputs": [],
   "source": [
    "#Selecting only OECD Members\n",
    "map_2_df = map_2_df[map_2_df['OECD']==1]"
   ],
   "metadata": {
    "id": "aocEPA08fJm_"
   }
  },
  {
   "cell_type": "code",
   "execution_count": null,
   "outputs": [],
   "source": [
    "map_2_df"
   ],
   "metadata": {
    "id": "zW3nku2MfJnA",
    "outputId": "04d409ce-c679-40b3-d898-270bdbaf7d21"
   }
  },
  {
   "cell_type": "code",
   "execution_count": null,
   "outputs": [],
   "source": [
    "map_2 = folium.Map(location=[0, 0], zoom_start=2, tiles=\"Stamen Toner Background\")"
   ],
   "metadata": {
    "id": "jEti1cmffJnB"
   }
  },
  {
   "cell_type": "code",
   "execution_count": null,
   "outputs": [],
   "source": [
    "# Matching ISO_A3 values between map data and OECD members list\n",
    "oecd_members_map_df = map_df.loc[map_df['ISO_A3'].isin(map_2_df['ISO_A3'])]"
   ],
   "metadata": {
    "id": "dCqYagg6fJnB"
   }
  },
  {
   "cell_type": "code",
   "execution_count": null,
   "outputs": [],
   "source": [
    "# Create a GeoJSON layer with the filtered data\n",
    "oecd_members_layer = folium.GeoJson(\n",
    "    data=oecd_members_map_df,\n",
    "    name=\"OECD Member Nations\",\n",
    "    style_function=lambda feature: {\n",
    "        \"weight\": 0.5,\n",
    "        \"color\": \"black\",\n",
    "        \"fillColor\": \"#63BFF0\",\n",
    "        \"fillOpacity\": 0.9\n",
    "    } ,\n",
    "    tooltip=folium.features.GeoJsonTooltip(fields=['ISO_A3'], labels=True, sticky=True)\n",
    ").add_to(map_2)\n",
    "\n",
    "# Add layer to map\n",
    "#oecd_members_layer.add_to(map_2)\n",
    "\n",
    "# Custom HTML Template for the Legend\n",
    "legend_html = \"\"\"\n",
    "<div style=\"position: fixed; bottom: 180px; right: 400px; z-index: 1000; background-color: white;\n",
    "             padding: 10px; border: 2px solid grey; font-size: 16px; font-family: 'Roboto', sans-serif;\">\n",
    "\n",
    "    <div style=\"font-weight: bold; margin-bottom: 5px;\">OECD Membership</div>\n",
    "    <div style=\"display: flex; align-items: center;\">\n",
    "        <div style=\"display: flex; align-items: center; margin-bottom: 5px;\">\n",
    "            <div style=\"width: 20px; height: 20px; background-color: #63BFF0; margin-right: 5px;\"></div>\n",
    "            <div>OECD Member</div>\n",
    "        </div>\n",
    "        <div style=\"display: flex; align-items: center; margin-bottom: 5px;\">\n",
    "            <div style=\"width: 20px; height: 20px; background-color: #f7f7f7; margin-right: 5px;\"></div>\n",
    "            <div>OECD Non-Member</div>\n",
    "        </div>\n",
    "    </div>\n",
    "\n",
    "</div>\n",
    "\"\"\"\n",
    "\n",
    "# Adding legend HTML to the map\n",
    "map_2.get_root().html.add_child(folium.Element(legend_html))\n",
    "\n",
    "# Saving map as HTML file to correct file path.\n",
    "map_2.save(os.path.join(TheShow_directory, 'Graphics/Maps/OECD Members/OECD_members Stamen Toner Background.html'))"
   ],
   "metadata": {
    "id": "sub6qJkUfJnC"
   }
  },
  {
   "cell_type": "code",
   "execution_count": null,
   "metadata": {
    "id": "Hmu09wzhMH0D"
   },
   "outputs": [],
   "source": [
    "map_2"
   ]
  },
  {
   "cell_type": "code",
   "execution_count": null,
   "outputs": [],
   "source": [],
   "metadata": {
    "id": "M-spheYhfJnS"
   }
  }
 ],
 "metadata": {
  "colab": {
   "provenance": []
  },
  "kernelspec": {
   "display_name": "Python 3",
   "language": "python",
   "name": "python3"
  },
  "language_info": {
   "codemirror_mode": {
    "name": "ipython",
    "version": 2
   },
   "file_extension": ".py",
   "mimetype": "text/x-python",
   "name": "python",
   "nbconvert_exporter": "python",
   "pygments_lexer": "ipython2",
   "version": "2.7.6"
  }
 },
 "nbformat": 4,
 "nbformat_minor": 0
}
