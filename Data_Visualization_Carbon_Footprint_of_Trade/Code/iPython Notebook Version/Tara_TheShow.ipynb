{
 "nbformat": 4,
 "nbformat_minor": 0,
 "metadata": {
  "colab": {
   "provenance": []
  },
  "kernelspec": {
   "name": "python3",
   "display_name": "Python 3"
  },
  "language_info": {
   "name": "python"
  }
 },
 "cells": [
  {
   "cell_type": "code",
   "execution_count": null,
   "metadata": {
    "id": "md3GGtXVVlIY",
    "executionInfo": {
     "status": "ok",
     "timestamp": 1685924158822,
     "user_tz": 240,
     "elapsed": 12178,
     "user": {
      "displayName": "Tara Paranjpe",
      "userId": "06511854496665230526"
     }
    },
    "colab": {
     "base_uri": "https://localhost:8080/"
    },
    "outputId": "2b8a2117-b6f2-4a16-e984-9be51cd67df9"
   },
   "outputs": [],
   "source": [
    "# import libraries\n",
    "! pip install xlrd\n",
    "\n",
    "import pandas as pd\n",
    "import numpy as np\n",
    "import matplotlib.pyplot as plt\n",
    "import seaborn as sns\n",
    "\n",
    "%matplotlib inline"
   ]
  },
  {
   "cell_type": "code",
   "source": [
    "# map to drive\n",
    "from google.colab import drive\n",
    "drive.mount('/content/drive')"
   ],
   "metadata": {
    "colab": {
     "base_uri": "https://localhost:8080/"
    },
    "id": "SBu1ZchUVqdl",
    "executionInfo": {
     "status": "ok",
     "timestamp": 1685924177184,
     "user_tz": 240,
     "elapsed": 16991,
     "user": {
      "displayName": "Tara Paranjpe",
      "userId": "06511854496665230526"
     }
    },
    "outputId": "183b863c-51c8-4ed0-9886-4c59940d5b32"
   },
   "execution_count": null,
   "outputs": []
  },
  {
   "cell_type": "markdown",
   "source": [
    "# Gross Imports (OECD & Non-OECD)"
   ],
   "metadata": {
    "id": "QLt3IE9jXsMg"
   }
  },
  {
   "cell_type": "code",
   "source": [
    "# import csv\n",
    "df=pd.read_csv('/content/drive/MyDrive/Eggplant Group - The Show - MSDS 455 Data Visualization/EggplantGroup_TheShow_Final_Submission/Data/Gross Imports/oecd_non_oecd_total.csv')"
   ],
   "metadata": {
    "id": "r66UWxAoVvlg",
    "executionInfo": {
     "status": "ok",
     "timestamp": 1685924180897,
     "user_tz": 240,
     "elapsed": 2871,
     "user": {
      "displayName": "Tara Paranjpe",
      "userId": "06511854496665230526"
     }
    }
   },
   "execution_count": null,
   "outputs": []
  },
  {
   "cell_type": "code",
   "source": [
    "# check the data\n",
    "df.head()"
   ],
   "metadata": {
    "colab": {
     "base_uri": "https://localhost:8080/",
     "height": 527
    },
    "id": "rQw_yMW1XIps",
    "executionInfo": {
     "status": "ok",
     "timestamp": 1685924181924,
     "user_tz": 240,
     "elapsed": 180,
     "user": {
      "displayName": "Tara Paranjpe",
      "userId": "06511854496665230526"
     }
    },
    "outputId": "fceb6be9-859d-4571-ccae-83391c19c206"
   },
   "execution_count": null,
   "outputs": []
  },
  {
   "cell_type": "code",
   "source": [
    "# checking dataset\n",
    "df.info()"
   ],
   "metadata": {
    "colab": {
     "base_uri": "https://localhost:8080/"
    },
    "id": "yPcqo5T4P98D",
    "executionInfo": {
     "status": "ok",
     "timestamp": 1685924183983,
     "user_tz": 240,
     "elapsed": 338,
     "user": {
      "displayName": "Tara Paranjpe",
      "userId": "06511854496665230526"
     }
    },
    "outputId": "4aebbb35-7247-4888-839e-74f45a5c79a9"
   },
   "execution_count": null,
   "outputs": []
  },
  {
   "cell_type": "code",
   "source": [
    "#confirm that the correct countries are represented in the dataset\n",
    "df.Country.unique()"
   ],
   "metadata": {
    "colab": {
     "base_uri": "https://localhost:8080/"
    },
    "id": "jdcq8FaVhvVa",
    "executionInfo": {
     "status": "ok",
     "timestamp": 1685924185407,
     "user_tz": 240,
     "elapsed": 272,
     "user": {
      "displayName": "Tara Paranjpe",
      "userId": "06511854496665230526"
     }
    },
    "outputId": "cd3f3037-0771-4ce1-fd90-d22ecb05484b"
   },
   "execution_count": null,
   "outputs": []
  },
  {
   "cell_type": "code",
   "source": [
    "# Create graph\n",
    "plt.figure()\n",
    "sns.set_style(\"ticks\")\n",
    "sns.lineplot(x=\"Time\", y=\"Value\", hue=\"Country\", data=df, palette=\"husl\", errorbar=None).set(title='', xlabel=None ,ylabel=\"CO2 Emissions (Tons, Millions)\")\n",
    "plt.ylim(0, 9.5)\n",
    "plt.xticks(fontsize=12)\n",
    "plt.yticks(fontsize=12)\n",
    "plt.legend(frameon=False)\n",
    "plt.box(False)\n",
    "#plt.savefig('/content/drive/MyDrive/The Show/OECD_vs_Non.png')\n",
    "plt.savefig('/content/drive/MyDrive/The Show/OECD_vs_Non.svg')"
   ],
   "metadata": {
    "colab": {
     "base_uri": "https://localhost:8080/",
     "height": 434
    },
    "id": "fslhY7LDXJw8",
    "executionInfo": {
     "status": "ok",
     "timestamp": 1685925307507,
     "user_tz": 240,
     "elapsed": 992,
     "user": {
      "displayName": "Tara Paranjpe",
      "userId": "06511854496665230526"
     }
    },
    "outputId": "1c5af2b1-9137-4061-bb0e-088e9802b1e1"
   },
   "execution_count": null,
   "outputs": []
  },
  {
   "cell_type": "markdown",
   "source": [
    "# Gross Imports (OECD only)\n"
   ],
   "metadata": {
    "id": "2Fd1Ped8X2CC"
   }
  },
  {
   "cell_type": "code",
   "source": [
    "# Import first part of the data\n",
    "df_oecd_1=pd.read_csv('/content/drive/MyDrive/Eggplant Group - The Show - MSDS 455 Data Visualization/EggplantGroup_TheShow_Final_Submission/Data/Gross Imports/oecd_only_co2_gross_imports_part1.csv')"
   ],
   "metadata": {
    "id": "hKLFXBATlkc-",
    "executionInfo": {
     "status": "ok",
     "timestamp": 1685924344626,
     "user_tz": 240,
     "elapsed": 6177,
     "user": {
      "displayName": "Tara Paranjpe",
      "userId": "06511854496665230526"
     }
    }
   },
   "execution_count": null,
   "outputs": []
  },
  {
   "cell_type": "code",
   "source": [
    "df_oecd_1.head()"
   ],
   "metadata": {
    "colab": {
     "base_uri": "https://localhost:8080/",
     "height": 441
    },
    "id": "A6ssyJ-oluH_",
    "executionInfo": {
     "status": "ok",
     "timestamp": 1685924344626,
     "user_tz": 240,
     "elapsed": 14,
     "user": {
      "displayName": "Tara Paranjpe",
      "userId": "06511854496665230526"
     }
    },
    "outputId": "df8be64a-112a-40b8-91bb-0dabd5883f57"
   },
   "execution_count": null,
   "outputs": []
  },
  {
   "cell_type": "code",
   "source": [
    "df_oecd_1.info()"
   ],
   "metadata": {
    "colab": {
     "base_uri": "https://localhost:8080/"
    },
    "id": "UhF3PDn-ULaB",
    "executionInfo": {
     "status": "ok",
     "timestamp": 1685924346166,
     "user_tz": 240,
     "elapsed": 1552,
     "user": {
      "displayName": "Tara Paranjpe",
      "userId": "06511854496665230526"
     }
    },
    "outputId": "68465f11-ddcd-4ae4-f12b-4377e5ccba00"
   },
   "execution_count": null,
   "outputs": []
  },
  {
   "cell_type": "code",
   "source": [
    "# Check which countries are here\n",
    "df_oecd_1.Country.unique()"
   ],
   "metadata": {
    "colab": {
     "base_uri": "https://localhost:8080/"
    },
    "id": "0gGRenC9lwZa",
    "executionInfo": {
     "status": "ok",
     "timestamp": 1685924346166,
     "user_tz": 240,
     "elapsed": 4,
     "user": {
      "displayName": "Tara Paranjpe",
      "userId": "06511854496665230526"
     }
    },
    "outputId": "80e86b3f-5844-4927-f48f-0346408b08fa"
   },
   "execution_count": null,
   "outputs": []
  },
  {
   "cell_type": "code",
   "source": [
    "# Import second part of the data\n",
    "df_oecd_2=pd.read_csv('/content/drive/MyDrive/Eggplant Group - The Show - MSDS 455 Data Visualization/EggplantGroup_TheShow_Final_Submission/Data/Gross Imports/oecd_only_co2_gross_imports_part2.csv')"
   ],
   "metadata": {
    "id": "bDIddxTfmtjG",
    "executionInfo": {
     "status": "ok",
     "timestamp": 1685924352803,
     "user_tz": 240,
     "elapsed": 6639,
     "user": {
      "displayName": "Tara Paranjpe",
      "userId": "06511854496665230526"
     }
    }
   },
   "execution_count": null,
   "outputs": []
  },
  {
   "cell_type": "code",
   "source": [
    "df_oecd_2.head()"
   ],
   "metadata": {
    "colab": {
     "base_uri": "https://localhost:8080/",
     "height": 441
    },
    "id": "kPQhoZjgm03V",
    "executionInfo": {
     "status": "ok",
     "timestamp": 1685924352805,
     "user_tz": 240,
     "elapsed": 8,
     "user": {
      "displayName": "Tara Paranjpe",
      "userId": "06511854496665230526"
     }
    },
    "outputId": "8a50d08e-1470-4cea-ca76-07faae52b2bf"
   },
   "execution_count": null,
   "outputs": []
  },
  {
   "cell_type": "code",
   "source": [
    "# Check which countries are here\n",
    "df_oecd_2.Country.unique()"
   ],
   "metadata": {
    "colab": {
     "base_uri": "https://localhost:8080/"
    },
    "id": "XctaQueGm2ri",
    "executionInfo": {
     "status": "ok",
     "timestamp": 1685924352956,
     "user_tz": 240,
     "elapsed": 157,
     "user": {
      "displayName": "Tara Paranjpe",
      "userId": "06511854496665230526"
     }
    },
    "outputId": "b1288445-9da0-4576-c9e2-6c07a30e63b8"
   },
   "execution_count": null,
   "outputs": []
  },
  {
   "cell_type": "code",
   "source": [
    "#Import 3rd part of the data\n",
    "df_oecd_3=pd.read_csv('/content/drive/MyDrive/Eggplant Group - The Show - MSDS 455 Data Visualization/EggplantGroup_TheShow_Final_Submission/Data/Gross Imports/oecd_only_co2_gross_imports_part3.csv')"
   ],
   "metadata": {
    "id": "DBljauqmnHDl",
    "executionInfo": {
     "status": "ok",
     "timestamp": 1685924355805,
     "user_tz": 240,
     "elapsed": 2850,
     "user": {
      "displayName": "Tara Paranjpe",
      "userId": "06511854496665230526"
     }
    }
   },
   "execution_count": null,
   "outputs": []
  },
  {
   "cell_type": "code",
   "source": [
    "df_oecd_3.head()"
   ],
   "metadata": {
    "colab": {
     "base_uri": "https://localhost:8080/",
     "height": 441
    },
    "id": "B2aKB1pVnJyD",
    "executionInfo": {
     "status": "ok",
     "timestamp": 1685924355806,
     "user_tz": 240,
     "elapsed": 21,
     "user": {
      "displayName": "Tara Paranjpe",
      "userId": "06511854496665230526"
     }
    },
    "outputId": "4a1c3a4a-1704-4fb6-f8d3-81069e6fe7a3"
   },
   "execution_count": null,
   "outputs": []
  },
  {
   "cell_type": "code",
   "source": [
    "## Check which countries are here\n",
    "df_oecd_3.Country.unique()"
   ],
   "metadata": {
    "colab": {
     "base_uri": "https://localhost:8080/"
    },
    "id": "VQ9HZjPWnL5H",
    "executionInfo": {
     "status": "ok",
     "timestamp": 1685924355806,
     "user_tz": 240,
     "elapsed": 19,
     "user": {
      "displayName": "Tara Paranjpe",
      "userId": "06511854496665230526"
     }
    },
    "outputId": "216ad93d-181f-487c-c70c-361e6481f338"
   },
   "execution_count": null,
   "outputs": []
  },
  {
   "cell_type": "code",
   "source": [
    "# merge dataset to create new dataframe with all\n",
    "frames = [df_oecd_1, df_oecd_2, df_oecd_3]\n",
    "\n",
    "df_oecd_total = pd.concat(frames)"
   ],
   "metadata": {
    "id": "S6-e52GHncbW",
    "executionInfo": {
     "status": "ok",
     "timestamp": 1685924356556,
     "user_tz": 240,
     "elapsed": 767,
     "user": {
      "displayName": "Tara Paranjpe",
      "userId": "06511854496665230526"
     }
    }
   },
   "execution_count": null,
   "outputs": []
  },
  {
   "cell_type": "code",
   "source": [
    "# remove duplicates\n",
    "df_oecd_total.drop_duplicates()"
   ],
   "metadata": {
    "colab": {
     "base_uri": "https://localhost:8080/",
     "height": 1000
    },
    "id": "O-4OSWofqpY7",
    "executionInfo": {
     "status": "ok",
     "timestamp": 1685924360089,
     "user_tz": 240,
     "elapsed": 3536,
     "user": {
      "displayName": "Tara Paranjpe",
      "userId": "06511854496665230526"
     }
    },
    "outputId": "4a0d4d37-20e3-420c-cf05-275c499c1631"
   },
   "execution_count": null,
   "outputs": []
  },
  {
   "cell_type": "code",
   "source": [
    "df_oecd_total.info()"
   ],
   "metadata": {
    "colab": {
     "base_uri": "https://localhost:8080/"
    },
    "id": "c1isuvxQUXH8",
    "executionInfo": {
     "status": "ok",
     "timestamp": 1685924360090,
     "user_tz": 240,
     "elapsed": 5,
     "user": {
      "displayName": "Tara Paranjpe",
      "userId": "06511854496665230526"
     }
    },
    "outputId": "07d895f6-9210-44c2-a33a-a07450114717"
   },
   "execution_count": null,
   "outputs": []
  },
  {
   "cell_type": "code",
   "source": [
    "# confirm all countries are represented\n",
    "df_oecd_total.Country.unique()"
   ],
   "metadata": {
    "colab": {
     "base_uri": "https://localhost:8080/"
    },
    "id": "Yj7m-jVVoM42",
    "executionInfo": {
     "status": "ok",
     "timestamp": 1685924360291,
     "user_tz": 240,
     "elapsed": 204,
     "user": {
      "displayName": "Tara Paranjpe",
      "userId": "06511854496665230526"
     }
    },
    "outputId": "8347b064-ce3d-41e9-9245-d32fc942be5d"
   },
   "execution_count": null,
   "outputs": []
  },
  {
   "cell_type": "code",
   "source": [
    "# create visual\n",
    "plt.figure()\n",
    "sns.set_style(\"ticks\")\n",
    "ax = sns.lineplot(x=\"Time\", y=\"Value\", hue=\"Country\", palette=\"husl\", data=df_oecd_total, errorbar=None)\n",
    "sns.despine()\n",
    "ax.set(xlabel=None,\n",
    "       ylabel='CO2 Emissions (Tons, Millions)')\n",
    "plt.xticks(fontsize=12)\n",
    "plt.yticks(fontsize=12)\n",
    "plt.legend(bbox_to_anchor=(1.05, 1), loc=2, ncol=2,borderaxespad=0.5, frameon=False)\n",
    "plt.box(False)\n",
    "#plt.savefig('/content/drive/MyDrive/The Show/OECD_countries_gross_imports.png')\n",
    "plt.savefig('/content/drive/MyDrive/The Show/OECD_countries_gross_imports.svg')"
   ],
   "metadata": {
    "colab": {
     "base_uri": "https://localhost:8080/",
     "height": 449
    },
    "id": "JCEFWjORoWv7",
    "executionInfo": {
     "status": "ok",
     "timestamp": 1685925332845,
     "user_tz": 240,
     "elapsed": 5499,
     "user": {
      "displayName": "Tara Paranjpe",
      "userId": "06511854496665230526"
     }
    },
    "outputId": "d4476395-e8d3-4e6e-8b87-30bcc3d4e991"
   },
   "execution_count": null,
   "outputs": []
  }
 ]
}
