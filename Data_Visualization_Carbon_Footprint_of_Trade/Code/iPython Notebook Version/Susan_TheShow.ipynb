{
 "nbformat": 4,
 "nbformat_minor": 0,
 "metadata": {
  "colab": {
   "provenance": []
  },
  "kernelspec": {
   "name": "python3",
   "display_name": "Python 3"
  },
  "language_info": {
   "name": "python"
  }
 },
 "cells": [
  {
   "cell_type": "markdown",
   "source": [
    "The countries that participate in OECD tend to be wealthier countries and use quite a bit more primary energy per capita, \n",
    "\n",
    "\n",
    "Non-OECD Country means a country that is not a member of the Organisation for Economic Co- operation and Development."
   ],
   "metadata": {
    "id": "bCsmUP6yyTDI"
   }
  },
  {
   "cell_type": "code",
   "execution_count": null,
   "metadata": {
    "colab": {
     "base_uri": "https://localhost:8080/"
    },
    "id": "oDNm9yXKRVvr",
    "outputId": "257d0341-6342-46be-c9c9-f968730a2213"
   },
   "outputs": [],
   "source": [
    "# import libraries\n",
    "! pip install xlrd\n",
    "\n",
    "import pandas as pd\n",
    "import numpy as np\n",
    "import matplotlib.pyplot as plt\n",
    "import seaborn as sns\n",
    "\n",
    "%matplotlib inline"
   ]
  },
  {
   "cell_type": "code",
   "source": [
    "from google.colab import drive\n",
    "drive.mount('/content/drive')\n",
    "\n",
    "\n",
    "\n",
    "\n",
    "path = '/content/drive/MyDrive/EggplantGroup_TheShow_Final_Submission/Data/Total Co2 Emission/oecd_non_oecd_total.csv'\n",
    "\n",
    "dfNonOecd = pd.read_csv(path)\n"
   ],
   "metadata": {
    "colab": {
     "base_uri": "https://localhost:8080/"
    },
    "id": "Qc0CGlXjAsM4",
    "outputId": "e7a33043-d89d-4122-e3cc-d023c2fa9dcc"
   },
   "execution_count": null,
   "outputs": []
  },
  {
   "cell_type": "markdown",
   "source": [],
   "metadata": {
    "id": "OHPDus8iyQfj"
   }
  },
  {
   "cell_type": "code",
   "source": [
    "dfNonOecd['Partner'] = dfNonOecd['Partner'].replace([\"China (People's Republic of)\"], 'China (Peoples Republic of)')\n"
   ],
   "metadata": {
    "id": "wYuTr6SZsWk_"
   },
   "execution_count": null,
   "outputs": []
  },
  {
   "cell_type": "code",
   "source": [
    "countries = dfNonOecd['Partner'].unique()\n",
    "print(countries)"
   ],
   "metadata": {
    "colab": {
     "base_uri": "https://localhost:8080/"
    },
    "id": "RGDLzuexpMi-",
    "outputId": "3c42d993-051a-47fd-f795-5e29759e8d47"
   },
   "execution_count": null,
   "outputs": []
  },
  {
   "cell_type": "code",
   "source": [
    "listOfCountries= ['Australia', 'Austria', 'Belgium', 'Canada', 'Chile', 'Colombia', 'Costa Rica', 'Czech Republic', 'Denmark', 'Estonia',\n",
    " 'Finland', 'France', 'Germany', 'Greece', 'Hungary', 'Iceland', 'Ireland', 'Israel', 'Italy', 'Japan', 'Korea', 'Latvia', 'Lithuania', 'Luxembourg',\n",
    " 'Mexico', 'Netherlands', 'New Zealand', 'Norway', 'Poland', 'Portugal',\n",
    " 'Slovak Republic', 'Slovenia', 'Spain', 'Sweden', 'Switzerland', 'Türkiye',\n",
    " 'United Kingdom', 'United States', 'Argentina', 'Brazil', 'Brunei Darussalam', 'Bulgaria', 'Cambodia', 'China (Peoples Republic of)', 'Croatia', 'Cyprus', 'Hong Kong, China',\n",
    " 'India', 'Indonesia', 'Kazakhstan', 'Lao PDR', 'Malaysia', 'Malta', 'Morocco',\n",
    " 'Peru', 'Philippines', 'Romania', 'Russian Federation', 'Saudi Arabia',\n",
    " 'Singapore', 'South Africa', 'Chinese Taipei', 'Thailand', 'Tunisia',\n",
    " 'Viet Nam',  'Myanmar']\n",
    "\n"
   ],
   "metadata": {
    "id": "M-I55-90puLb"
   },
   "execution_count": null,
   "outputs": []
  },
  {
   "cell_type": "code",
   "source": [
    " for c in listOfCountries:\n",
    "    print(c)\n",
    "    "
   ],
   "metadata": {
    "id": "wX-W1STQrENk",
    "colab": {
     "base_uri": "https://localhost:8080/"
    },
    "outputId": "9f400c51-b96a-452c-f34a-fb32870f762f"
   },
   "execution_count": null,
   "outputs": []
  },
  {
   "cell_type": "code",
   "source": [
    "dfNonOecd.dropna(subset=['Partner'], how='all', inplace=True)"
   ],
   "metadata": {
    "id": "xeZANQGI8Zmb"
   },
   "execution_count": null,
   "outputs": []
  },
  {
   "cell_type": "code",
   "source": [
    "#drop where partner name is not a country from  the list \n",
    "notCountry = ['World', 'OECD member countries' , 'Non-OECD economies and aggregates', 'Rest of the World', 'Asia-Pacific Economic Cooperation',\n",
    " 'Association of South East Asian Nations', 'Eastern Asia',\n",
    " 'European Union (27 countries)', 'European Union (28 countries)',\n",
    " 'European Union (15 countries)', 'EU28 excluding EU15',\n",
    " 'Euro area (19 countries)', 'Group of Twenty', 'North America', 'Europe',\n",
    " 'East and Southeastern Asia' ,'South and Central America', 'Other regions ']\n",
    "\n",
    "dfNonOecd2= dfNonOecd[~dfNonOecd.Partner.isin(notCountry)]\n",
    "dfNonOecd2.head(9000)\n",
    "countriesTest = dfNonOecd2['Partner'].unique()\n",
    "print(countriesTest)"
   ],
   "metadata": {
    "colab": {
     "base_uri": "https://localhost:8080/"
    },
    "id": "J4AQIHwrX26_",
    "outputId": "f16f84ea-4925-4710-c74e-85a2ad6219fe"
   },
   "execution_count": null,
   "outputs": []
  },
  {
   "cell_type": "code",
   "source": [
    "# list of columns in the dataset \n",
    "NonOecdCol = dfNonOecd.columns\n",
    "print(NonOecdCol)"
   ],
   "metadata": {
    "id": "YFhWJ1PWw2DA",
    "colab": {
     "base_uri": "https://localhost:8080/"
    },
    "outputId": "380f1fbc-d56e-4b53-e5b1-54a4d735b0ea"
   },
   "execution_count": null,
   "outputs": []
  },
  {
   "cell_type": "code",
   "source": [
    "#Determine most recent year of Co2 Emission data\n",
    "\n",
    "\n",
    "NonOecMaxYear = dfNonOecd['Time'].max()\n",
    "print(NonOecMaxYear)"
   ],
   "metadata": {
    "colab": {
     "base_uri": "https://localhost:8080/"
    },
    "id": "T4zThxb8lay4",
    "outputId": "967d2cc2-9c9b-41c2-ebc2-40be1c9b53b2"
   },
   "execution_count": null,
   "outputs": []
  },
  {
   "cell_type": "code",
   "source": [
    "#Determine top 10 NONOECD COUNTRY CONTRIBUTERS OF CO2 EMISSIONS\n",
    "x= 10\n",
    "NonOecd = dfNonOecd2[ (dfNonOecd2['Time'] == NonOecMaxYear)  & (dfNonOecd2['COU'] == 'NONOECD') & (dfNonOecd2['Industry'] == 'TOTAL')] # select only rows for NONOECD coutntry and max year \n",
    "print(len(NonOecd)) \n",
    "NonOecd2= NonOecd.sort_values(by = ['Value'], ascending=[False])\n",
    "NonOecd = NonOecd2.loc[:,['Partner','Time','Value']]  #new_dataset = dataset.loc[:, ['A','D']]\n",
    "NonOecd2.loc[:,['Partner','Time', 'Value']].head(x)"
   ],
   "metadata": {
    "colab": {
     "base_uri": "https://localhost:8080/",
     "height": 381
    },
    "id": "CgEvlbpMZtDe",
    "outputId": "f5527297-3791-49bd-ae3e-bfd4e30d3ef8"
   },
   "execution_count": null,
   "outputs": []
  },
  {
   "cell_type": "code",
   "source": [
    "dfNonOecdGraph = NonOecd2.loc[:,['Partner','Time', 'Value']].head(x)\n",
    "dfNonOecdGraph.head()"
   ],
   "metadata": {
    "colab": {
     "base_uri": "https://localhost:8080/",
     "height": 206
    },
    "id": "HYFvv69usUJo",
    "outputId": "678ab6b3-41c1-42df-8704-3d5fd693def5"
   },
   "execution_count": null,
   "outputs": []
  },
  {
   "cell_type": "code",
   "source": [
    "#plot\n",
    "NonOecd2['Percentage']= (NonOecd2['Value']/NonOecd2['Value'].sum() *100).round(2)\n",
    "\n",
    "dfNonOecdGraph = NonOecd2.loc[:,['Partner','Time', 'Value', 'Percentage']].head(x)\n",
    "dfNonOecdGraph.head()\n",
    "\n",
    "\n",
    "fig, ax1 = plt.subplots(figsize=(8, 6))\n",
    "sns.barplot(x='Partner', y='Percentage', data=dfNonOecdGraph, capsize=0.1, ax=ax1,\n",
    "            order=None, color='#003BA4')\n",
    "#sns.lineplot(x='variable', y='value', data=dfNonOecdGraph,ax=ax1, color='r', marker='+', linewidth=5, ci=None)\n",
    "plt.xticks(rotation=75)\n",
    "plt.xlabel(\"\") \n",
    "plt.ylabel(\"Contribution (in %) to Overall/Global CO2 Emission\", font='roboto')\n",
    "plt.rcParams.update({'font.size': 12})\n",
    "g= sns.despine(bottom = True, left = True)# Remove all borders\n",
    "\n",
    "plt.show()"
   ],
   "metadata": {
    "colab": {
     "base_uri": "https://localhost:8080/",
     "height": 708
    },
    "id": "zHQDCSOj9IYi",
    "outputId": "b49091c1-a6a8-4399-b307-e06594e52487"
   },
   "execution_count": null,
   "outputs": []
  },
  {
   "cell_type": "code",
   "source": [
    "#Determine TOP 10 OECD COUNTRY CONTRIBUTERS TO CO2 EMISSIONS\n",
    "x= 10\n",
    "Oecd = dfNonOecd2[ (dfNonOecd2['Time'] == NonOecMaxYear)  & (dfNonOecd2['COU'] == 'OECD') & (dfNonOecd2['Industry'] == 'TOTAL') ] # select only rows for OECD coutntry and max year \n",
    "print(len(Oecd)) \n",
    "Oecd2= Oecd.sort_values(by = ['Value'], ascending=[False])\n",
    "Oecd = Oecd2.loc[:,['Partner','Time','Value']]  \n",
    "Oecd2 = Oecd.drop_duplicates() \n",
    "#Oecd2.loc[:,['Partner','Time', 'Value']].head(x)\n",
    "\n",
    "Oecd2.head(20)"
   ],
   "metadata": {
    "colab": {
     "base_uri": "https://localhost:8080/",
     "height": 694
    },
    "id": "RQ-eEZnOB_DH",
    "outputId": "85aa6eba-2bcf-48e6-d389-a793a9a701f5"
   },
   "execution_count": null,
   "outputs": []
  },
  {
   "cell_type": "code",
   "source": [
    "x= 10\n",
    "Oecd = dfNonOecd2[ (dfNonOecd2['Time'] == NonOecMaxYear)  & (dfNonOecd2['COU'] == 'OECD') & (dfNonOecd2['Industry'] == 'TOTAL') ] # select only rows for OECD coutntry and max year \n",
    "print(len(Oecd)) \n",
    "Oecd2= Oecd.sort_values(by = ['Value'], ascending=[False])\n",
    "Oecd = Oecd2.loc[:,['Partner','Time','Value']]  \n",
    "Oecd2 = Oecd.drop_duplicates() \n",
    "#Oecd2['Percentage'] = 0\n",
    "Oecd2['Percentage']= (Oecd2['Value']/Oecd2['Value'].sum() *100).round(2)\n",
    "Oecd2.loc[:,['Partner','Time', 'Value']].head(x)\n",
    "Oecd2.head() "
   ],
   "metadata": {
    "colab": {
     "base_uri": "https://localhost:8080/",
     "height": 224
    },
    "id": "7Ly708vI3Ubq",
    "outputId": "7111dc58-7699-42a0-dd88-c6d90b831df2"
   },
   "execution_count": null,
   "outputs": []
  },
  {
   "cell_type": "code",
   "source": [
    "\n",
    "\n",
    "OecdGraph = Oecd2.loc[:,['Partner','Time', 'Percentage']].head(x)\n",
    "#plot\n",
    "fig, ax1 = plt.subplots(figsize=(8, 6))\n",
    "\n",
    "sns.barplot(x='Partner', y='Percentage', data=OecdGraph, capsize=0.1, ax=ax1,\n",
    "            order=None, color='#003BA4')\n",
    "plt.xticks(rotation=75)\n",
    "plt.xlabel(\"\") \n",
    "plt.ylabel(\"Contribution (in %) to Overall/Global CO2 Emission\", font='roboto')\n",
    "plt.rcParams.update({'font.size': 12})\n",
    "\n",
    "g= sns.despine(bottom = True, left = True)# Remove all borders\n",
    "'''max_y_lim = max(OecdGraph.Percentage) + .2\n",
    "min_y_lim = min(OecdGraph.Percentage)\n",
    "plt.ylim(min_y_lim, max_y_lim)\n",
    "plt.show()\n",
    "'''"
   ],
   "metadata": {
    "colab": {
     "base_uri": "https://localhost:8080/",
     "height": 858
    },
    "id": "yWTlzPw04FC6",
    "outputId": "15c9507d-f9c6-4e9c-e57c-c32eecb6b2ec"
   },
   "execution_count": null,
   "outputs": []
  }
 ]
}
